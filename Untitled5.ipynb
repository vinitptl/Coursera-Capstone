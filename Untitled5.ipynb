{
  "nbformat": 4,
  "nbformat_minor": 0,
  "metadata": {
    "colab": {
      "name": "Untitled5.ipynb",
      "provenance": []
    },
    "kernelspec": {
      "name": "python3",
      "display_name": "Python 3"
    },
    "language_info": {
      "name": "python"
    }
  },
  "cells": [
    {
      "cell_type": "code",
      "execution_count": 6,
      "metadata": {
        "colab": {
          "base_uri": "https://localhost:8080/"
        },
        "id": "ko_UQ4kjPkxT",
        "outputId": "e7ee6c22-2098-47ab-bcbf-e343261c771c"
      },
      "outputs": [
        {
          "output_type": "execute_result",
          "data": {
            "text/plain": [
              "float"
            ]
          },
          "metadata": {},
          "execution_count": 6
        }
      ],
      "source": [
        "a=5\n",
        "b=5.5\n",
        "type(b)"
      ]
    },
    {
      "cell_type": "code",
      "source": [
        "x = True\n",
        "type(x)"
      ],
      "metadata": {
        "id": "xkULbz4QQNre"
      },
      "execution_count": null,
      "outputs": []
    }
  ]
}